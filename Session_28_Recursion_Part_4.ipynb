{
 "cells": [
  {
   "cell_type": "code",
   "execution_count": null,
   "id": "d2f3a466",
   "metadata": {},
   "outputs": [],
   "source": [
    "#Base Case : list is of size 0 or 1(Bydefault the list is sorted)\n",
    "# Induction Hypothesis : List of size l-1 my function works(Assumption)\n",
    "#Induction Step : \n",
    "\n",
    "#Base : l == 0 or l == 1 return True\n",
    "#I. H : It works for l-1 sized lists\n",
    "#I.S  check [0] > [1]\n",
    "               return False\n",
    "    else:\n",
    "        check for smaller list starting from [1.....end]"
   ]
  },
  {
   "cell_type": "code",
   "execution_count": null,
   "id": "d6ee3e01",
   "metadata": {},
   "outputs": [],
   "source": [
    "def isSorted(a):\n",
    "    l = len(a)\n",
    "    if l == 0 or l == 1:\n",
    "        return True\n",
    "    \n",
    "    if a[0] > a[1]:\n",
    "        return False\n",
    "    \n",
    "    \n",
    "    smallerList = a[1:]\n",
    "    isSmallerListSorted = isSorted(smallerList)\n",
    "    \n",
    "    if isSmallerListSorted:\n",
    "        return True\n",
    "    \n",
    "    else:\n",
    "        return False\n",
    " "
   ]
  },
  {
   "cell_type": "code",
   "execution_count": null,
   "id": "3e7fbeb5",
   "metadata": {},
   "outputs": [],
   "source": [
    "a = [1,2,3,4,5,6,7,8,9]\n",
    "isSorted(a)"
   ]
  },
  {
   "cell_type": "code",
   "execution_count": null,
   "id": "4ad8b636",
   "metadata": {},
   "outputs": [],
   "source": [
    "a = [1,2,3,4,56,89,5,6,7,8,9]\n",
    "isSorted(a)"
   ]
  },
  {
   "cell_type": "code",
   "execution_count": 4,
   "id": "17788617",
   "metadata": {},
   "outputs": [],
   "source": [
    "def isSortedBetter(a, si):\n",
    "    l = len(a)\n",
    "    if si == l-1 or si == l:\n",
    "        return True\n",
    "    \n",
    "    if a[si] > a[si + 1]:\n",
    "        return False\n",
    "    \n",
    "    isSmallpartSorted = isSortedBetter(a, si + 1)\n",
    "    \n",
    "    return isSmallpartSorted"
   ]
  },
  {
   "cell_type": "code",
   "execution_count": 6,
   "id": "7c580c23",
   "metadata": {},
   "outputs": [
    {
     "data": {
      "text/plain": [
       "False"
      ]
     },
     "execution_count": 6,
     "metadata": {},
     "output_type": "execute_result"
    }
   ],
   "source": [
    "a = [1,2,3,4,56,89,5,6,7]\n",
    "si = 0\n",
    "isSortedBetter(a, si)"
   ]
  },
  {
   "cell_type": "code",
   "execution_count": 7,
   "id": "c7ef696f",
   "metadata": {},
   "outputs": [
    {
     "data": {
      "text/plain": [
       "True"
      ]
     },
     "execution_count": 7,
     "metadata": {},
     "output_type": "execute_result"
    }
   ],
   "source": [
    "a = []\n",
    "si = 0\n",
    "isSortedBetter(a, si)"
   ]
  },
  {
   "cell_type": "code",
   "execution_count": 8,
   "id": "fdb8c16f",
   "metadata": {},
   "outputs": [
    {
     "data": {
      "text/plain": [
       "0"
      ]
     },
     "execution_count": 8,
     "metadata": {},
     "output_type": "execute_result"
    }
   ],
   "source": [
    "len(a)"
   ]
  },
  {
   "cell_type": "code",
   "execution_count": 10,
   "id": "23a84b15",
   "metadata": {},
   "outputs": [],
   "source": [
    "def firstIndex(a, x):\n",
    "    l = len(a)\n",
    "    if l == 0:\n",
    "        return -1\n",
    "    \n",
    "    if a[0] == x:\n",
    "        return 0\n",
    "    \n",
    "    smallerList = a[1:]\n",
    "    smallerListOutput = firstIndex(smallerList, x)\n",
    "    \n",
    "    if smallerListOutput == -1:\n",
    "        return -1\n",
    "    else:\n",
    "        return smallerListOutput + 1"
   ]
  },
  {
   "cell_type": "code",
   "execution_count": 11,
   "id": "fda4b198",
   "metadata": {},
   "outputs": [
    {
     "data": {
      "text/plain": [
       "2"
      ]
     },
     "execution_count": 11,
     "metadata": {},
     "output_type": "execute_result"
    }
   ],
   "source": [
    "a = [5,7,10,9,37,2,10]\n",
    "x = 10\n",
    "firstIndex(a, 10)"
   ]
  },
  {
   "cell_type": "code",
   "execution_count": 17,
   "id": "2ec6ede6",
   "metadata": {},
   "outputs": [],
   "source": [
    "def firstIndexB(a, x, si):\n",
    "    l = len(a)\n",
    "    if si == l:\n",
    "        return -1\n",
    "    \n",
    "    if a[si] == x:\n",
    "        return si\n",
    "    \n",
    "    smallerListOutput = firstIndexB(a, x, si + 1)\n",
    "    return smallerListOutput\n"
   ]
  },
  {
   "cell_type": "code",
   "execution_count": 18,
   "id": "aceccc46",
   "metadata": {},
   "outputs": [
    {
     "data": {
      "text/plain": [
       "5"
      ]
     },
     "execution_count": 18,
     "metadata": {},
     "output_type": "execute_result"
    }
   ],
   "source": [
    "a = [ 1,2,3,4,5,6,5,6,7]\n",
    "x = 6\n",
    "si = 0\n",
    "firstIndexB(a, x, si)"
   ]
  },
  {
   "cell_type": "code",
   "execution_count": 19,
   "id": "7ed657bc",
   "metadata": {},
   "outputs": [
    {
     "data": {
      "text/plain": [
       "5"
      ]
     },
     "execution_count": 19,
     "metadata": {},
     "output_type": "execute_result"
    }
   ],
   "source": [
    "a = [ 1,2,3,4,5,6,5,6,7]\n",
    "x = 6\n",
    "si = 1\n",
    "firstIndexB(a, x, si)"
   ]
  },
  {
   "cell_type": "code",
   "execution_count": 20,
   "id": "5540d6f4",
   "metadata": {},
   "outputs": [
    {
     "data": {
      "text/plain": [
       "2"
      ]
     },
     "execution_count": 20,
     "metadata": {},
     "output_type": "execute_result"
    }
   ],
   "source": [
    "a = [3,5,7,10,7]\n",
    "x = 7\n",
    "si = 0\n",
    "firstIndexB(a, x, si)"
   ]
  }
 ],
 "metadata": {
  "kernelspec": {
   "display_name": "Python 3 (ipykernel)",
   "language": "python",
   "name": "python3"
  },
  "language_info": {
   "codemirror_mode": {
    "name": "ipython",
    "version": 3
   },
   "file_extension": ".py",
   "mimetype": "text/x-python",
   "name": "python",
   "nbconvert_exporter": "python",
   "pygments_lexer": "ipython3",
   "version": "3.11.4"
  }
 },
 "nbformat": 4,
 "nbformat_minor": 5
}
